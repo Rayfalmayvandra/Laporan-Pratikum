{
  "nbformat": 4,
  "nbformat_minor": 0,
  "metadata": {
    "colab": {
      "provenance": [],
      "toc_visible": true
    },
    "kernelspec": {
      "name": "python3",
      "display_name": "Python 3"
    },
    "language_info": {
      "name": "python"
    }
  },
  "cells": [
    {
      "cell_type": "code",
      "execution_count": null,
      "metadata": {
        "colab": {
          "base_uri": "https://localhost:8080/"
        },
        "id": "DYRXafCfhtbl",
        "outputId": "8a6a9396-85ee-44c1-fc53-d7c0e709f844"
      },
      "outputs": [
        {
          "output_type": "stream",
          "name": "stdout",
          "text": [
            "Good Morning ! it is rainy today\n"
          ]
        }
      ],
      "source": [
        "print('Good Morning !' , end = ' ')\n",
        "print('it is rainy today')"
      ]
    },
    {
      "cell_type": "code",
      "source": [
        "print('New Year' , 2023, 'See you soon!' , sep= '. ')"
      ],
      "metadata": {
        "colab": {
          "base_uri": "https://localhost:8080/"
        },
        "id": "ZFNduRCWieA_",
        "outputId": "6e547c20-a850-4232-e4fe-39d7f465fedb"
      },
      "execution_count": null,
      "outputs": [
        {
          "output_type": "stream",
          "name": "stdout",
          "text": [
            "New Year. 2023. See you soon!\n"
          ]
        }
      ]
    },
    {
      "cell_type": "code",
      "source": [
        "number = -10.6\n",
        "\n",
        "name = \"Teknologi Informasi\"\n",
        "\n",
        "print(5)\n",
        "print(number)\n",
        "print(name)"
      ],
      "metadata": {
        "colab": {
          "base_uri": "https://localhost:8080/"
        },
        "id": "tYAIASb9it_p",
        "outputId": "ca5e937e-171d-4630-9dac-8052556cd61d"
      },
      "execution_count": null,
      "outputs": [
        {
          "output_type": "stream",
          "name": "stdout",
          "text": [
            "5\n",
            "-10.6\n",
            "Teknologi Informasi\n"
          ]
        }
      ]
    },
    {
      "cell_type": "code",
      "source": [
        "x = 5\n",
        "y = 10\n",
        "\n",
        "print ('The value of x is {} and y is {}'. format (x,y))"
      ],
      "metadata": {
        "colab": {
          "base_uri": "https://localhost:8080/"
        },
        "id": "yC1kagORjCU3",
        "outputId": "c571bc49-0d59-4b86-e376-1e980c8d419c"
      },
      "execution_count": null,
      "outputs": [
        {
          "output_type": "stream",
          "name": "stdout",
          "text": [
            "The value of x is 5 and y is 10\n"
          ]
        }
      ]
    },
    {
      "cell_type": "code",
      "source": [
        "!pip install wget"
      ],
      "metadata": {
        "colab": {
          "base_uri": "https://localhost:8080/"
        },
        "id": "w2rcUN9ijbfG",
        "outputId": "978134f2-afca-44ac-a7be-6a14f017463f"
      },
      "execution_count": null,
      "outputs": [
        {
          "output_type": "stream",
          "name": "stdout",
          "text": [
            "Collecting wget\n",
            "  Downloading wget-3.2.zip (10 kB)\n",
            "  Preparing metadata (setup.py) ... \u001b[?25l\u001b[?25hdone\n",
            "Building wheels for collected packages: wget\n",
            "  Building wheel for wget (setup.py) ... \u001b[?25l\u001b[?25hdone\n",
            "  Created wheel for wget: filename=wget-3.2-py3-none-any.whl size=9656 sha256=43248c27dee1b24c0dac42c69ccb23ccf691fcc4de293daa2f50bc348334e588\n",
            "  Stored in directory: /root/.cache/pip/wheels/8b/f1/7f/5c94f0a7a505ca1c81cd1d9208ae2064675d97582078e6c769\n",
            "Successfully built wget\n",
            "Installing collected packages: wget\n",
            "Successfully installed wget-3.2\n"
          ]
        }
      ]
    },
    {
      "cell_type": "code",
      "source": [
        "!mkdir -p /resources/data\n",
        "!wget -O /resources/data/Example1.txt https://s3-api.us-geo.objectstorage.softlayer.net/cf-courses-data/CognitiveClass/PY0101EN/labs/example1."
      ],
      "metadata": {
        "colab": {
          "base_uri": "https://localhost:8080/"
        },
        "id": "gUiIPJmfjmKA",
        "outputId": "c9f14aa1-a2d9-4815-c8b7-a962c17b5fb6"
      },
      "execution_count": null,
      "outputs": [
        {
          "output_type": "stream",
          "name": "stdout",
          "text": [
            "--2024-09-06 08:59:30--  https://s3-api.us-geo.objectstorage.softlayer.net/cf-courses-data/CognitiveClass/PY0101EN/labs/example1.\n",
            "Resolving s3-api.us-geo.objectstorage.softlayer.net (s3-api.us-geo.objectstorage.softlayer.net)... 67.228.254.196\n",
            "Connecting to s3-api.us-geo.objectstorage.softlayer.net (s3-api.us-geo.objectstorage.softlayer.net)|67.228.254.196|:443... connected.\n",
            "HTTP request sent, awaiting response... 404 Not Found\n",
            "2024-09-06 08:59:30 ERROR 404: Not Found.\n",
            "\n"
          ]
        }
      ]
    },
    {
      "cell_type": "code",
      "source": [
        "file = open ('/resources/data/Example1.txt' , 'r')"
      ],
      "metadata": {
        "id": "2ps2zuHhj1pJ"
      },
      "execution_count": null,
      "outputs": []
    },
    {
      "cell_type": "code",
      "source": [
        "!mkdir -p /resources/data\n",
        "with open ('/resources/data/Example2.txt' , 'w') as writefile:\n",
        "    writefile.write(\"This is line A\\n\")"
      ],
      "metadata": {
        "id": "idOgh7ojkPHs"
      },
      "execution_count": null,
      "outputs": []
    },
    {
      "cell_type": "code",
      "source": [
        "with open('/resources/data/Example2.txt', 'r') as testwritefile:\n",
        "    print(testwritefile.read())\n"
      ],
      "metadata": {
        "colab": {
          "base_uri": "https://localhost:8080/"
        },
        "id": "7_p5cSljk0S5",
        "outputId": "495de817-db72-4e80-ce16-52fae9e47f3d"
      },
      "execution_count": null,
      "outputs": [
        {
          "output_type": "stream",
          "name": "stdout",
          "text": [
            "This is line A\n",
            "\n"
          ]
        }
      ]
    },
    {
      "cell_type": "code",
      "source": [
        "with open('/resources/data/Example2.txt', 'w') as writefile:\n",
        "    writefile.write(\"This is line A\\n\")\n",
        "    writefile.write(\"This is line B\\n\")"
      ],
      "metadata": {
        "id": "ExI516o6lPVj"
      },
      "execution_count": null,
      "outputs": []
    },
    {
      "cell_type": "code",
      "source": [
        "with open('/resources/data/Example2.txt', 'r') as testwritefile:\n",
        "    print(testwritefile.read())"
      ],
      "metadata": {
        "colab": {
          "base_uri": "https://localhost:8080/"
        },
        "id": "lc1hBIzTlS4l",
        "outputId": "d4f19926-b894-44d9-a650-ae372ca558b2"
      },
      "execution_count": null,
      "outputs": [
        {
          "output_type": "stream",
          "name": "stdout",
          "text": [
            "This is line A\n",
            "This is line B\n",
            "\n"
          ]
        }
      ]
    },
    {
      "cell_type": "code",
      "source": [
        "with open('/resources/data/Example2.txt', 'a') as testwritefile:\n",
        "    testwritefile.write(\"This is line C\\n\")"
      ],
      "metadata": {
        "id": "J4HssHu-lVsj"
      },
      "execution_count": null,
      "outputs": []
    },
    {
      "cell_type": "code",
      "source": [
        "with open('/resources/data/Example2.txt', 'r') as testwritefile:\n",
        "    print(testwritefile.read())"
      ],
      "metadata": {
        "colab": {
          "base_uri": "https://localhost:8080/"
        },
        "id": "wjSXoFnUlZxY",
        "outputId": "21644e90-4553-4178-95dc-6ff1395fec69"
      },
      "execution_count": null,
      "outputs": [
        {
          "output_type": "stream",
          "name": "stdout",
          "text": [
            "This is line A\n",
            "This is line B\n",
            "This is line C\n",
            "\n"
          ]
        }
      ]
    },
    {
      "cell_type": "code",
      "source": [
        "Lines = [\"This is line A\\n\", \"This is line B\\n\", \"This is line C\\n\"]\n",
        "Lines"
      ],
      "metadata": {
        "colab": {
          "base_uri": "https://localhost:8080/"
        },
        "id": "VT6jua5ZlcI4",
        "outputId": "74299d21-1878-4bc1-d4f7-766eca8ee89d"
      },
      "execution_count": null,
      "outputs": [
        {
          "output_type": "execute_result",
          "data": {
            "text/plain": [
              "['This is line A\\n', 'This is line B\\n', 'This is line C\\n']"
            ]
          },
          "metadata": {},
          "execution_count": 18
        }
      ]
    },
    {
      "cell_type": "code",
      "source": [
        "with open('Example2.txt', 'w') as writefile:\n",
        "    for line in Lines:\n",
        "        print(line)\n",
        "        writefile.write(line)"
      ],
      "metadata": {
        "colab": {
          "base_uri": "https://localhost:8080/"
        },
        "id": "qM1poFENlfLB",
        "outputId": "91bd0b5e-cb9e-4dfe-c25e-1eb90b390d0d"
      },
      "execution_count": null,
      "outputs": [
        {
          "output_type": "stream",
          "name": "stdout",
          "text": [
            "This is line A\n",
            "\n",
            "This is line B\n",
            "\n",
            "This is line C\n",
            "\n"
          ]
        }
      ]
    },
    {
      "cell_type": "code",
      "source": [
        "with open('Example2.txt', 'r') as testwritefile:\n",
        "    print(testwritefile.read())"
      ],
      "metadata": {
        "colab": {
          "base_uri": "https://localhost:8080/"
        },
        "id": "q9cuHbtSliAU",
        "outputId": "b9eec888-af48-4a8d-9482-afada376a89a"
      },
      "execution_count": null,
      "outputs": [
        {
          "output_type": "stream",
          "name": "stdout",
          "text": [
            "This is line A\n",
            "This is line B\n",
            "This is line C\n",
            "\n"
          ]
        }
      ]
    },
    {
      "cell_type": "code",
      "source": [
        "file = open(\"Biodata.txt\", \"a\")"
      ],
      "metadata": {
        "id": "A5Qrc8uyJcwL"
      },
      "execution_count": null,
      "outputs": []
    },
    {
      "cell_type": "code",
      "source": [
        "file = open(\"Biodata.txt\", \"r\")"
      ],
      "metadata": {
        "id": "1TTrTudOJgVo"
      },
      "execution_count": null,
      "outputs": []
    },
    {
      "cell_type": "code",
      "source": [
        "with open('Biodata.txt', 'r') as file2:\n",
        "    print(file2.read())"
      ],
      "metadata": {
        "colab": {
          "base_uri": "https://localhost:8080/"
        },
        "id": "Mma7F3CfJi7Y",
        "outputId": "61d5c8f6-b177-4bd8-f7e8-de75a4f42f5f"
      },
      "execution_count": null,
      "outputs": [
        {
          "output_type": "stream",
          "name": "stdout",
          "text": [
            "Nama : Rayfal Mayvandra Aurora Akbar\n",
            "\n",
            "Program Studi : Teknologi Informasi\n",
            "\n",
            "NPM : 2410506009\n",
            "\n",
            "Alamat : Jln. Dumpoh Raya\n",
            "\n",
            "Hobi : Bermain Alat Musik\n",
            " \n",
            "Email : Rayfalmayvandra@gmail.com\n"
          ]
        }
      ]
    },
    {
      "cell_type": "code",
      "source": [
        "with open('BiodataDiri.txt', 'w') as writefile:\n",
        "    writefile.write('Nama          : Rayfal Mayvandra Aurora Akbar\\n')\n",
        "    writefile.write('Program Studi : S1 Teknologi Informasi\\n')\n",
        "    writefile.write('NPM           : 2410506009\\n')\n",
        "    writefile.write('Alamat        : Jln. Dumpoh Raya\\n')\n",
        "    writefile.write('Hobi          : Bermain Alat Musik\\n')\n",
        "    writefile.write('Email         : Rayfalmayvandra@gmail.com\\n')"
      ],
      "metadata": {
        "id": "xFRDniFXJ2rH"
      },
      "execution_count": null,
      "outputs": []
    },
    {
      "cell_type": "code",
      "source": [
        "with open('BiodataDiri.txt', 'r') as file2:\n",
        "    print(file2.read())"
      ],
      "metadata": {
        "colab": {
          "base_uri": "https://localhost:8080/"
        },
        "id": "7nr2Syr8GEYo",
        "outputId": "7b8026b3-826c-4d83-94da-47418ad91c2b"
      },
      "execution_count": null,
      "outputs": [
        {
          "output_type": "stream",
          "name": "stdout",
          "text": [
            "Nama          : Rayfal Mayvandra Aurora Akbar\n",
            "Program Studi : S1 Teknologi Informasi\n",
            "NPM           : 2410506009\n",
            "Alamat        : Jln. Dumpoh Raya\n",
            "Hobi          : Bermain Alat Musik\n",
            "Email         : Rayfalmayvandra@gmail.com\n",
            "\n"
          ]
        }
      ]
    },
    {
      "cell_type": "code",
      "source": [
        "with open('BiodataDiri.txt', 'r') as file1:\n",
        "     FileasList = file1.readlines()\n",
        "     print(FileasList[0])\n",
        "     print(FileasList[1])\n",
        "     print(FileasList[5])"
      ],
      "metadata": {
        "colab": {
          "base_uri": "https://localhost:8080/"
        },
        "id": "3jARJleWGGky",
        "outputId": "f3c17d61-8d24-4887-a7f2-fa36e2749b95"
      },
      "execution_count": null,
      "outputs": [
        {
          "output_type": "stream",
          "name": "stdout",
          "text": [
            "Nama          : Rayfal Mayvandra Aurora Akbar\n",
            "\n",
            "Program Studi : S1 Teknologi Informasi\n",
            "\n",
            "Email         : Rayfalmayvandra@gmail.com\n",
            "\n"
          ]
        }
      ]
    },
    {
      "cell_type": "code",
      "source": [
        "with open('BiodataDiri.txt', 'r') as readfile:\n",
        "    with open('BiodataDiri2.txt', 'w') as writefile:\n",
        "          for line in readfile:\n",
        "                writefile.write(line)"
      ],
      "metadata": {
        "id": "Go_GaQutNs2q"
      },
      "execution_count": null,
      "outputs": []
    },
    {
      "cell_type": "code",
      "source": [
        "with open ('BiodataDiri2.txt', 'r') as file2:\n",
        "    print(file2.read())"
      ],
      "metadata": {
        "colab": {
          "base_uri": "https://localhost:8080/"
        },
        "id": "RC7rmCeWjvEO",
        "outputId": "8f54b538-dee8-4c05-8cea-69238a683dcd"
      },
      "execution_count": null,
      "outputs": [
        {
          "output_type": "stream",
          "name": "stdout",
          "text": [
            "Nama          : Rayfal Mayvandra Aurora Akbar\n",
            "NPM           : 2410506009\n",
            "Program Studi : S1 Teknologi Informasi\n",
            "Alamat        : Jln. Dumpoh Raya\n"
          ]
        }
      ]
    }
  ]
}