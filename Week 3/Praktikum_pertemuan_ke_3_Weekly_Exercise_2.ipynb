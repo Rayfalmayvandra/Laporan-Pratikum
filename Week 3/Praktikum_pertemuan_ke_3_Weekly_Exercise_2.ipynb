{
  "nbformat": 4,
  "nbformat_minor": 0,
  "metadata": {
    "colab": {
      "provenance": []
    },
    "kernelspec": {
      "name": "python3",
      "display_name": "Python 3"
    },
    "language_info": {
      "name": "python"
    }
  },
  "cells": [
    {
      "cell_type": "code",
      "source": [
        "print(\"Selamat Datang di Toko Maju Jaya\")\n",
        "print(\"Senin, 4 September 2023, Pukul : 13.05\")\n",
        "print(\" \")\n",
        "\n",
        "print(\"DAFTAR BELANJA:\")\n",
        "\n",
        "item1 = \"Sabun\"\n",
        "item2 = \"Shampo\"\n",
        "item3 = \"Mie instant\"\n",
        "item4 = \"Detergen\"\n",
        "harga1 = 10000\n",
        "harga2 = 15000\n",
        "harga3 = 5000\n",
        "harga4 = 17500\n",
        "\n",
        "total = harga1 + harga2 + harga3 + harga4\n",
        "\n",
        "print(f\"{item1} = Rp {harga1}\")\n",
        "print(f\"{item2} = Rp {harga2}\")\n",
        "print(f\"{item3} = Rp {harga3}\")\n",
        "print(f\"{item4} = Rp {harga4}\")\n",
        "\n",
        "print(\" \")\n",
        "print(f\"Total = Rp {total}\")\n",
        "\n",
        "with open('Kuitansi.txt', 'w') as file:\n",
        "    file.write(\"Selamat Datang di Toko Maju Jaya\\n\")\n",
        "    file.write(\"\\n\")\n",
        "    file.write(\"Kuitansi - 4 September 2023, Pukul : 13.05 \\n\")\n",
        "    file.write(\"\\n\")\n",
        "    file.write(f\"{item1} = Rp {harga1}\\n\")\n",
        "    file.write(f\"{item2} = Rp {harga2}\\n\")\n",
        "    file.write(f\"{item3} = Rp {harga3}\\n\")\n",
        "    file.write(f\"{item4} = Rp {harga4}\\n\")\n",
        "    file.write(\"\\n\")\n",
        "    file.write(f\"Total Belanja = Rp {total}\\n\")"
      ],
      "metadata": {
        "colab": {
          "base_uri": "https://localhost:8080/"
        },
        "id": "oWjtu89k1ilL",
        "outputId": "ddb4d05b-89c9-45e2-e2ec-46c434b73f88"
      },
      "execution_count": null,
      "outputs": [
        {
          "output_type": "stream",
          "name": "stdout",
          "text": [
            "Selamat Datang di Toko Maju Jaya\n",
            "Senin, 4 September 2023, Pukul : 13.05\n",
            " \n",
            "DAFTAR BELANJA:\n",
            "Sabun = Rp 10000\n",
            "Shampo = Rp 15000\n",
            "Mie instant = Rp 5000\n",
            "Detergen = Rp 17500\n",
            " \n",
            "Total = Rp 47500\n"
          ]
        }
      ]
    }
  ]
}