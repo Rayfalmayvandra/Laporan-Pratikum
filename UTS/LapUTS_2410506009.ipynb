{
  "nbformat": 4,
  "nbformat_minor": 0,
  "metadata": {
    "colab": {
      "provenance": []
    },
    "kernelspec": {
      "name": "python3",
      "display_name": "Python 3"
    },
    "language_info": {
      "name": "python"
    }
  },
  "cells": [
    {
      "cell_type": "code",
      "source": [
        "#Soal Nomor 1\n",
        "angka = (input(\"Masukkan NPM Anda: \"))\n",
        "jumlah_ganjil = 0\n",
        "jumlah_genap = 0\n",
        "for i in angka:\n",
        "    if int(i) % 2 == 0:\n",
        "        jumlah_genap += 1\n",
        "    else:\n",
        "        jumlah_ganjil += 1\n",
        "\n",
        "print(f\"Jumlah digit genap: {jumlah_genap}\")\n",
        "print(f\"Jumlah digit ganjil: {jumlah_ganjil}\")"
      ],
      "metadata": {
        "colab": {
          "base_uri": "https://localhost:8080/"
        },
        "id": "sgFA950jws4I",
        "outputId": "97b6cd60-7d47-4f51-ab62-b5ce6278d925"
      },
      "execution_count": null,
      "outputs": [
        {
          "output_type": "stream",
          "name": "stdout",
          "text": [
            "Masukkan NPM Anda: 2410506009\n",
            "Jumlah digit genap: 7\n",
            "Jumlah digit ganjil: 3\n"
          ]
        }
      ]
    },
    {
      "cell_type": "code",
      "execution_count": 2,
      "metadata": {
        "colab": {
          "base_uri": "https://localhost:8080/"
        },
        "id": "cmn-rAWVt4yY",
        "outputId": "07f2c8aa-9552-4733-b9ed-3dd4ea722c19"
      },
      "outputs": [
        {
          "output_type": "stream",
          "name": "stdout",
          "text": [
            "Masukkan Jumlah Baris Yang Anda Inginkan : 10\n",
            "1 \n",
            "2 4 \n",
            "3 6 9 \n",
            "4 8 12 16 \n",
            "5 10 15 20 25 \n",
            "6 12 18 24 30 36 \n",
            "7 14 21 28 35 42 49 \n",
            "8 16 24 32 40 48 56 64 \n",
            "9 18 27 36 45 54 63 72 81 \n",
            "10 20 30 40 50 60 70 80 90 100 \n",
            "Selesai\n"
          ]
        }
      ],
      "source": [
        "#Soal Nomor 2\n",
        "angka = int(input(\"Masukkan Jumlah Baris Yang Anda Inginkan : \"))\n",
        "for b in range(1, angka + 1):\n",
        "    for j in range(1, b + 1):\n",
        "        print(b * j, end= \" \")\n",
        "    print()\n",
        "else:\n",
        "  print(\"Selesai\")"
      ]
    }
  ]
}