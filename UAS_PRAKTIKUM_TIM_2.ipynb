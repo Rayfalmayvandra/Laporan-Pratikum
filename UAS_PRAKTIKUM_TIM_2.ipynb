{
  "nbformat": 4,
  "nbformat_minor": 0,
  "metadata": {
    "colab": {
      "provenance": [],
      "include_colab_link": true
    },
    "kernelspec": {
      "name": "python3",
      "display_name": "Python 3"
    },
    "language_info": {
      "name": "python"
    }
  },
  "cells": [
    {
      "cell_type": "markdown",
      "metadata": {
        "id": "view-in-github",
        "colab_type": "text"
      },
      "source": [
        "<a href=\"https://colab.research.google.com/github/Rayfalmayvandra/Laporan-Pratikum/blob/main/UAS_PRAKTIKUM_TIM_2.ipynb\" target=\"_parent\"><img src=\"https://colab.research.google.com/assets/colab-badge.svg\" alt=\"Open In Colab\"/></a>"
      ]
    },
    {
      "cell_type": "markdown",
      "source": [
        "SOAL NO 1"
      ],
      "metadata": {
        "id": "PSpJHiYVqZAS"
      }
    },
    {
      "cell_type": "code",
      "source": [
        "class Mahasiswa:\n",
        "    def __init__(self, nama, nim, nilai_akhir):\n",
        "        self.nama = nama\n",
        "        self.nim = nim\n",
        "        self.nilai_akhir = nilai_akhir\n",
        "\n",
        "    def tambah_nilai(self, nilai):\n",
        "        try:\n",
        "            self.nilai_akhir += float(nilai)\n",
        "        except ValueError:\n",
        "            print(\"Error: Nilai yang dimasukkan bukan angka.\")\n",
        "\n",
        "    def info_mahasiswa(self):\n",
        "        print(f\"Nama: {self.nama}, NIM: {self.nim}, Nilai Akhir: {self.nilai_akhir}\")\n",
        "\n",
        "\n",
        "daftar_mahasiswa = []\n",
        "\n",
        "def tambah_mahasiswa():\n",
        "    nama = input(\"Masukkan nama mahasiswa: \")\n",
        "    nim = input(\"Masukkan NIM mahasiswa: \")\n",
        "    try:\n",
        "        nilai_akhir = float(input(\"Masukkan nilai akhir mahasiswa: \"))\n",
        "        mahasiswa_baru = Mahasiswa(nama, nim, nilai_akhir)\n",
        "        daftar_mahasiswa.append(mahasiswa_baru)\n",
        "        print(\"Mahasiswa berhasil ditambahkan.\")\n",
        "    except ValueError:\n",
        "        print(\"Error: Nilai akhir harus berupa angka.\")\n",
        "\n",
        "def update_nilai():\n",
        "    nim = input(\"Masukkan NIM mahasiswa yang ingin diupdate nilainya: \")\n",
        "    for mhs in daftar_mahasiswa:\n",
        "        if mhs.nim == nim:\n",
        "            try:\n",
        "                nilai_baru = float(input(\"Masukkan nilai baru: \"))\n",
        "                mhs.nilai_akhir = nilai_baru\n",
        "                print(\"Nilai berhasil diupdate.\")\n",
        "                return\n",
        "            except ValueError:\n",
        "                print(\"Error: Nilai baru harus berupa angka.\")\n",
        "    print(f\"Mahasiswa dengan NIM {nim} tidak ditemukan.\")\n",
        "\n",
        "def tampilkan_semua_mahasiswa():\n",
        "    if not daftar_mahasiswa:\n",
        "        print(\"Belum ada data mahasiswa.\")\n",
        "        return\n",
        "    for mhs in daftar_mahasiswa:\n",
        "        mhs.info_mahasiswa()\n",
        "\n",
        "def cari_mahasiswa(nim):\n",
        "    for mhs in daftar_mahasiswa:\n",
        "        if mhs.nim == nim:\n",
        "            mhs.info_mahasiswa()\n",
        "            return\n",
        "    print(f\"Mahasiswa dengan NIM {nim} tidak ditemukan.\")\n",
        "\n",
        "while True:\n",
        "    print(\"\\nMenu:\")\n",
        "    print(\"1. Tambah Mahasiswa\")\n",
        "    print(\"2. Update Nilai\")\n",
        "    print(\"3. Tampilkan Semua Mahasiswa\")\n",
        "    print(\"4. Cari Mahasiswa\")\n",
        "    print(\"5. Keluar\")\n",
        "\n",
        "    pilihan = input(\"Masukkan pilihan Anda (1-5): \")\n",
        "\n",
        "    if pilihan == '1':\n",
        "        tambah_mahasiswa()\n",
        "    elif pilihan == '2':\n",
        "        update_nilai()\n",
        "    elif pilihan == '3':\n",
        "        tampilkan_semua_mahasiswa()\n",
        "    elif pilihan == '4':\n",
        "        nim = input(\"Masukkan NIM mahasiswa yang ingin dicari: \")\n",
        "        cari_mahasiswa(nim)\n",
        "    elif pilihan == '5':\n",
        "        break\n",
        "    else:\n",
        "        print(\"Pilihan tidak valid.\")"
      ],
      "metadata": {
        "colab": {
          "base_uri": "https://localhost:8080/"
        },
        "id": "EmszNFyPqZTu",
        "outputId": "1d757674-84de-4545-e19c-56cd7a2fd9b2"
      },
      "execution_count": null,
      "outputs": [
        {
          "name": "stdout",
          "output_type": "stream",
          "text": [
            "\n",
            "Menu:\n",
            "1. Tambah Mahasiswa\n",
            "2. Update Nilai\n",
            "3. Tampilkan Semua Mahasiswa\n",
            "4. Cari Mahasiswa\n",
            "5. Keluar\n",
            "Masukkan pilihan Anda (1-5): 3\n",
            "Belum ada data mahasiswa.\n",
            "\n",
            "Menu:\n",
            "1. Tambah Mahasiswa\n",
            "2. Update Nilai\n",
            "3. Tampilkan Semua Mahasiswa\n",
            "4. Cari Mahasiswa\n",
            "5. Keluar\n",
            "Masukkan pilihan Anda (1-5): 5\n"
          ]
        }
      ]
    }
  ]
}