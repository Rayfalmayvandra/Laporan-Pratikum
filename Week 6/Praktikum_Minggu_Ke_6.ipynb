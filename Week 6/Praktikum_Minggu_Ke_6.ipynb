{
  "nbformat": 4,
  "nbformat_minor": 0,
  "metadata": {
    "colab": {
      "provenance": []
    },
    "kernelspec": {
      "name": "python3",
      "display_name": "Python 3"
    },
    "language_info": {
      "name": "python"
    }
  },
  "cells": [
    {
      "cell_type": "code",
      "execution_count": null,
      "metadata": {
        "colab": {
          "base_uri": "https://localhost:8080/"
        },
        "id": "8oYWNMnNnQMr",
        "outputId": "3789407a-5d3c-4367-a2c2-e90aa626b3ab"
      },
      "outputs": [
        {
          "output_type": "stream",
          "name": "stdout",
          "text": [
            "Masukan Angka : 5 \n",
            "    * \n",
            "   * * \n",
            "  * * * \n",
            " * * * * \n",
            "* * * * * \n"
          ]
        }
      ],
      "source": [
        "#Weekly Execise 1\n",
        "b = int(input(\"Masukan Angka : \"))\n",
        "\n",
        "for a in range(b) :\n",
        "    for s in range(b - a - 1) :\n",
        "        print(\" \", end=\"\")\n",
        "\n",
        "    for bintang in range(1* a + 1) :\n",
        "        print(\"*\", end=\" \")\n",
        "    print()"
      ]
    },
    {
      "cell_type": "code",
      "source": [
        "#Weekly Exercise 2\n",
        "p = int(input(\"Masukan jumlah Angka Segitiga Pascal : \"))\n",
        "\n",
        "for i in range(1,p+1):\n",
        "    for j in range(p-i):\n",
        "        print(\" \",end=\"\")\n",
        "    b=1\n",
        "    for t in range(1,i+1):\n",
        "        print(b,end=\" \")\n",
        "        b=b*(i-t)//t\n",
        "\n",
        "    print()"
      ],
      "metadata": {
        "colab": {
          "base_uri": "https://localhost:8080/"
        },
        "id": "tKJQ-eI4p7mH",
        "outputId": "fca509a9-bf36-44cd-ef18-59e55441fcc4"
      },
      "execution_count": null,
      "outputs": [
        {
          "output_type": "stream",
          "name": "stdout",
          "text": [
            "Masukan jumlah Angka Segitiga Pascal : 5\n",
            "    1 \n",
            "   1 1 \n",
            "  1 2 1 \n",
            " 1 3 3 1 \n",
            "1 4 6 4 1 \n"
          ]
        }
      ]
    },
    {
      "cell_type": "code",
      "source": [
        "#Weekly Exercise 3\n",
        "dasar = 1\n",
        "total = 0\n",
        "baris = int(input(\"Masukan Jumlah Baris : \"))\n",
        "\n",
        "for y in range(baris):\n",
        "    if y == 0:\n",
        "        dasar = 1\n",
        "    else:\n",
        "        dasar = dasar * (baris - y) // y\n",
        "    print(dasar, end=\" \")\n",
        "    total += dasar\n",
        "\n",
        "print(f\"\\nJumlah Angka dalam baris {baris} adalah: {total}\")"
      ],
      "metadata": {
        "id": "wh_S4Hr_2NKl",
        "colab": {
          "base_uri": "https://localhost:8080/"
        },
        "outputId": "b50ba2fa-4ee4-4c33-a730-c49bf023def7"
      },
      "execution_count": 4,
      "outputs": [
        {
          "output_type": "stream",
          "name": "stdout",
          "text": [
            "Masukan Jumlah Baris : 5\n",
            "1 4 6 4 1 \n",
            "Jumlah Angka dalam baris 5 adalah: 16\n"
          ]
        }
      ]
    }
  ]
}