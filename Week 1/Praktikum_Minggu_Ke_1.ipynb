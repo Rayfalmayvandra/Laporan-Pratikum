{
  "nbformat": 4,
  "nbformat_minor": 0,
  "metadata": {
    "colab": {
      "provenance": []
    },
    "kernelspec": {
      "name": "python3",
      "display_name": "Python 3"
    },
    "language_info": {
      "name": "python"
    }
  },
  "cells": [
    {
      "cell_type": "markdown",
      "source": [
        "Hello to the world"
      ],
      "metadata": {
        "id": "6T6q2DLOfiH0"
      }
    },
    {
      "cell_type": "code",
      "execution_count": null,
      "metadata": {
        "colab": {
          "base_uri": "https://localhost:8080/"
        },
        "id": "uk7sPahEfJvf",
        "outputId": "f8527846-f5ef-4bc3-f3e8-59f5028d9a92"
      },
      "outputs": [
        {
          "output_type": "stream",
          "name": "stdout",
          "text": [
            "halloo.., Dunia Pyhon...\n"
          ]
        }
      ],
      "source": [
        "print(\"halloo.., Dunia Pyhon...\")"
      ]
    },
    {
      "cell_type": "code",
      "source": [
        "print(\"Universitas Tidar\")"
      ],
      "metadata": {
        "colab": {
          "base_uri": "https://localhost:8080/"
        },
        "id": "gstCkq-agIgy",
        "outputId": "55a04d95-0615-4206-b217-5d5203d14513"
      },
      "execution_count": null,
      "outputs": [
        {
          "output_type": "stream",
          "name": "stdout",
          "text": [
            "Universitas Tidar\n"
          ]
        }
      ]
    },
    {
      "cell_type": "code",
      "source": [
        "import sys\n",
        "print(sys.version)"
      ],
      "metadata": {
        "colab": {
          "base_uri": "https://localhost:8080/"
        },
        "id": "74ySIhrqgXJk",
        "outputId": "2a968eba-2f09-42e4-b48d-e51dc19930f1"
      },
      "execution_count": null,
      "outputs": [
        {
          "output_type": "stream",
          "name": "stdout",
          "text": [
            "3.10.12 (main, Jul 29 2024, 16:56:48) [GCC 11.4.0]\n"
          ]
        }
      ]
    },
    {
      "cell_type": "code",
      "source": [
        "print('Hello, Python!')"
      ],
      "metadata": {
        "colab": {
          "base_uri": "https://localhost:8080/"
        },
        "id": "_W4PRUVNiWaZ",
        "outputId": "adccc9d6-5275-4a90-a327-d529174ba792"
      },
      "execution_count": null,
      "outputs": [
        {
          "output_type": "stream",
          "name": "stdout",
          "text": [
            "Hello, Python!\n"
          ]
        }
      ]
    },
    {
      "cell_type": "code",
      "source": [
        "print('Hi')"
      ],
      "metadata": {
        "colab": {
          "base_uri": "https://localhost:8080/"
        },
        "id": "gS6waGKfieJe",
        "outputId": "f449a981-5c70-444e-f8f1-371e0b97687e"
      },
      "execution_count": null,
      "outputs": [
        {
          "output_type": "stream",
          "name": "stdout",
          "text": [
            "Hi\n"
          ]
        }
      ]
    },
    {
      "cell_type": "code",
      "source": [
        "print(\"Hello, Ptyhon!\")"
      ],
      "metadata": {
        "colab": {
          "base_uri": "https://localhost:8080/"
        },
        "id": "6L5Juwl1ioHD",
        "outputId": "0f618015-c28b-4925-cc3e-10974fcfad5c"
      },
      "execution_count": 2,
      "outputs": [
        {
          "output_type": "stream",
          "name": "stdout",
          "text": [
            "Hello, Ptyhon!\n"
          ]
        }
      ]
    },
    {
      "cell_type": "code",
      "source": [],
      "metadata": {
        "id": "A6vbhXZokGy-"
      },
      "execution_count": null,
      "outputs": []
    },
    {
      "cell_type": "code",
      "source": [
        "print(\"this will be printed\")\n",
        "print(\"this will cause an error\")\n",
        "print(\"this will NOT be Printed\")"
      ],
      "metadata": {
        "colab": {
          "base_uri": "https://localhost:8080/"
        },
        "id": "nYs_MgjPizfZ",
        "outputId": "d93214f6-3635-427b-ce2a-5d18dd0b916d"
      },
      "execution_count": 1,
      "outputs": [
        {
          "output_type": "stream",
          "name": "stdout",
          "text": [
            "this will be printed\n",
            "this will cause an error\n",
            "this will NOT be Printed\n"
          ]
        }
      ]
    },
    {
      "cell_type": "code",
      "source": [
        "print(\"Nama...........: Rayfal Mayvandra Aurora Akbar\" )"
      ],
      "metadata": {
        "colab": {
          "base_uri": "https://localhost:8080/"
        },
        "id": "hhN7bB53jT3R",
        "outputId": "00a4d9e1-2cb8-44f5-c70b-5fc59044c572"
      },
      "execution_count": null,
      "outputs": [
        {
          "output_type": "stream",
          "name": "stdout",
          "text": [
            "Nama...........: Rayfal Mayvandra Aurora Akbar\n"
          ]
        }
      ]
    },
    {
      "cell_type": "code",
      "source": [
        "print(\"NPM.............: 2410506009\")"
      ],
      "metadata": {
        "colab": {
          "base_uri": "https://localhost:8080/"
        },
        "id": "o1OD541bkLy4",
        "outputId": "58f1d129-6041-4a45-9a56-b5ebd99df7ee"
      },
      "execution_count": null,
      "outputs": [
        {
          "output_type": "stream",
          "name": "stdout",
          "text": [
            "NPM.............: 2410506009\n"
          ]
        }
      ]
    },
    {
      "cell_type": "code",
      "source": [
        "print(\"Alamat...........: Jalan Dumpoh Raya, Magelang, Jawa Tengah\")"
      ],
      "metadata": {
        "colab": {
          "base_uri": "https://localhost:8080/"
        },
        "id": "hDrC-bkykbP5",
        "outputId": "c98ccb1d-a3a1-4339-d75f-1e71b423ef49"
      },
      "execution_count": null,
      "outputs": [
        {
          "output_type": "stream",
          "name": "stdout",
          "text": [
            "Alamat...........: Jalan Dumpoh Raya, Magelang, Jawa Tengah\n"
          ]
        }
      ]
    },
    {
      "cell_type": "code",
      "source": [
        "print(\"Tinggi BAdan....: 165 cm\")"
      ],
      "metadata": {
        "colab": {
          "base_uri": "https://localhost:8080/"
        },
        "id": "SM5WpF30kpEX",
        "outputId": "5acbae0e-4cc0-44db-dadd-8e875017da0c"
      },
      "execution_count": null,
      "outputs": [
        {
          "output_type": "stream",
          "name": "stdout",
          "text": [
            "Tinggi BAdan....: 165 cm\n"
          ]
        }
      ]
    },
    {
      "cell_type": "code",
      "source": [
        "print(\"Nama...........: Rayfal Mayvandra Aurora Akbar\")\n",
        "print(\"NPM.............: 2410506009\")\n",
        "print(\"Alamat...........: Jalan Dumpoh Raya, Magelang, Jawa Tengah\")\n",
        "print(\"Tinggi Badan.....: 165 cm\")\n",
        "print(\"Berat Badan......: 50 kg\")"
      ],
      "metadata": {
        "colab": {
          "base_uri": "https://localhost:8080/"
        },
        "id": "FevG3dpNk_1j",
        "outputId": "dc849c41-0a3e-4712-921e-f035b60128cd"
      },
      "execution_count": null,
      "outputs": [
        {
          "output_type": "stream",
          "name": "stdout",
          "text": [
            "Nama...........: Rayfal Mayvandra Aurora Akbar\n",
            "NPM.............: 2410506009\n",
            "Alamat...........: Jalan Dumpoh Raya, Magelang, Jawa Tengah\n",
            "Tinggi Badan.....: 165 cm\n",
            "Berat Badan......: 50 kg\n"
          ]
        }
      ]
    },
    {
      "cell_type": "code",
      "source": [
        "print(\"Nama          : Rayfal Mayvandra Aurora Akbar\")\n",
        "print(\"\")\n",
        "print(\"NPM           : 2410506009\")\n",
        "print(\"\")\n",
        "print(\"Alamat        : Jl. Dumpoh Raya, Magelang, Jawa Tengah\")\n",
        "print(\"\")\n",
        "print(\"Tinggi Badan  : 167.2\")\n",
        "print(\"\")\n",
        "print(\"Berat Badan   : 50.5\")\n",
        "print(\"\")"
      ],
      "metadata": {
        "colab": {
          "base_uri": "https://localhost:8080/"
        },
        "id": "CVdfZFrRl5Pg",
        "outputId": "e034fe9b-05cc-41ed-dea6-a9574adecc4d"
      },
      "execution_count": null,
      "outputs": [
        {
          "output_type": "stream",
          "name": "stdout",
          "text": [
            "Nama          : Rayfal Mayvandra Aurora Akbar\n",
            "\n",
            "NPM           : 2410506009\n",
            "\n",
            "Alamat        : Jl. Dumpoh Raya, Magelang, Jawa Tengah\n",
            "\n",
            "Tinggi Badan  : 167.2\n",
            "\n",
            "Berat Badan   : 50.5\n",
            "\n"
          ]
        }
      ]
    },
    {
      "cell_type": "code",
      "source": [
        "print(\"\\033[1mUNIVERSITAS TIDAR\\033[0m\")\n",
        "print(\"Universitas Tidar merupakan Perguruan Tinggi Pemerintah atau Perguruan Tinggi Negeri yang telah ditetapkan berdasarkan Peraturan Presiden Republik Indonesia Nomor 23 Tahun 2014 pada tanggal 1 April 2014.\")\n",
        "print(\"\")\n",
        "print(\"\\033[1mJURUSAN TEKNIK ELEKTRO, MEKATRONIKA DAN INFORMASI\\033[0m\")\n",
        "print(\"Jurusan Teknik ELektro terdiri atas tiga program studi, antara lain:\")\n",
        "print(\"\")\n",
        "print(\"    1. Teknik Elektro \\x1B[3m(Bachelor of Electrical Engineering)\\x1B[0m\")\n",
        "print(\"    2. Teknik Telekomunikasi \\x1B[3m(Bachelor of Information Technology)\\x1B[0m\")\n",
        "print(\"    3. Teknik Mekatronika \\x1B[3m(Bachelor of Mechatronics Engineering)\\x1B[0m\")\n",
        "print(\"\")"
      ],
      "metadata": {
        "colab": {
          "base_uri": "https://localhost:8080/"
        },
        "id": "4O3Fl9TpnvUT",
        "outputId": "299c50c7-2385-4bf9-b0de-b85fafc0e4ae"
      },
      "execution_count": null,
      "outputs": [
        {
          "output_type": "stream",
          "name": "stdout",
          "text": [
            "\u001b[1mUNIVERSITAS TIDAR\u001b[0m\n",
            "Universitas Tidar merupakan Perguruan Tinggi Pemerintah atau Perguruan Tinggi Negeri yang telah ditetapkan berdasarkan Peraturan Presiden Republik Indonesia Nomor 23 Tahun 2014 pada tanggal 1 April 2014.\n",
            "\n",
            "\u001b[1mJURUSAN TEKNIK ELEKTRO, MEKATRONIKA DAN INFORMASI\u001b[0m\n",
            "Jurusan Teknik ELektro terdiri atas tiga program studi, antara lain:\n",
            "\n",
            "    1. Teknik Elektro \u001b[3m(Bachelor of Electrical Engineering)\u001b[0m\n",
            "    2. Teknik Telekomunikasi \u001b[3m(Bachelor of Information Technology)\u001b[0m\n",
            "    3. Teknik Mekatronika \u001b[3m(Bachelor of Mechatronics Engineering)\u001b[0m\n",
            "\n"
          ]
        }
      ]
    }
  ]
}