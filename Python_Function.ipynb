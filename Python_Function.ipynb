{
  "nbformat": 4,
  "nbformat_minor": 0,
  "metadata": {
    "colab": {
      "provenance": [],
      "authorship_tag": "ABX9TyMhVVksD6JXUd/ODEiCG+pt",
      "include_colab_link": true
    },
    "kernelspec": {
      "name": "python3",
      "display_name": "Python 3"
    },
    "language_info": {
      "name": "python"
    }
  },
  "cells": [
    {
      "cell_type": "markdown",
      "metadata": {
        "id": "view-in-github",
        "colab_type": "text"
      },
      "source": [
        "<a href=\"https://colab.research.google.com/github/Rayfalmayvandra/Laporan-Pratikum/blob/main/Python_Function.ipynb\" target=\"_parent\"><img src=\"https://colab.research.google.com/assets/colab-badge.svg\" alt=\"Open In Colab\"/></a>"
      ]
    },
    {
      "cell_type": "code",
      "execution_count": null,
      "metadata": {
        "colab": {
          "base_uri": "https://localhost:8080/"
        },
        "id": "lmDfusFrFur9",
        "outputId": "b9164f5e-f0e3-479c-e283-bbb534cb2084"
      },
      "outputs": [
        {
          "output_type": "stream",
          "name": "stdout",
          "text": [
            "Masukkan angka: 4\n",
            "Faktorial dari 4 adalah 24\n"
          ]
        }
      ],
      "source": [
        "#Weekly Exercise 1\n",
        "def hitung_faktorial(r):\n",
        "    if r <= 1:\n",
        "        return 1\n",
        "    return r * hitung_faktorial(r - 1)\n",
        "\n",
        "angka = int(input(\"Masukkan angka: \"))\n",
        "print(f\"Faktorial dari {angka} adalah {hitung_faktorial(angka)}\")"
      ]
    },
    {
      "cell_type": "code",
      "source": [
        "#Weekly Exercise 2\n",
        "def hitung_lingkaran():\n",
        "    phi = 3.14\n",
        "    radius =  float(input(\"Masukkan jari-jari lingkaran: \"))**2\n",
        "    luas_lingkaran = phi * radius\n",
        "    print(f\"Luas lingkaran adalah {luas_lingkaran}\\n\")\n",
        "\n",
        "def hitung_persegi():\n",
        "    panjang_sisi = float(input(\"Masukkan panjang sisi persegi: \"))\n",
        "    luas_persegi = panjang_sisi **2\n",
        "    print(f\"Luas persegi adalah {luas_persegi}\\n\")\n",
        "\n",
        "def hitung_segitiga():\n",
        "    alas = float(input(\"Masukkan alas segitiga: \"))\n",
        "    tinggi = float(input(\"Masukkan tinggi segitiga: \"))\n",
        "    luas_segitiga = 0.5 * alas * tinggi\n",
        "    print(f\"Luas segitiga adalah {luas_segitiga}\\n\")\n",
        "\n",
        "def main():\n",
        "    while True:\n",
        "        pilihan = int(input(\"Pilih bentuk yang ingin dihitung:\\n\\n1. Lingkaran\\n2. Persegi\\n3. Segitiga\\n4. Keluar\\n\\nMasukkan pilihan: \"))\n",
        "\n",
        "        if pilihan == 1:\n",
        "            hitung_lingkaran()\n",
        "        elif pilihan == 2:\n",
        "            hitung_persegi()\n",
        "        elif pilihan == 3:\n",
        "            hitung_segitiga()\n",
        "        elif pilihan == 4:\n",
        "          print(\"Keluar dari Program\")\n",
        "          break\n",
        "        else:\n",
        "            print(\"Pilihan tidak valid.\\n\")\n",
        "\n",
        "main()"
      ],
      "metadata": {
        "colab": {
          "base_uri": "https://localhost:8080/"
        },
        "id": "D90WPeaVGjPO",
        "outputId": "302f8392-40db-449c-fab0-e355affa04da"
      },
      "execution_count": null,
      "outputs": [
        {
          "output_type": "stream",
          "name": "stdout",
          "text": [
            "Pilih bentuk yang ingin dihitung:\n",
            "\n",
            "1. Lingkaran\n",
            "2. Persegi\n",
            "3. Segitiga\n",
            "4. Keluar\n",
            "\n",
            "Masukkan pilihan: 1\n",
            "Masukkan jari-jari lingkaran: 5\n",
            "Luas lingkaran adalah 78.5\n",
            "\n",
            "Pilih bentuk yang ingin dihitung:\n",
            "\n",
            "1. Lingkaran\n",
            "2. Persegi\n",
            "3. Segitiga\n",
            "4. Keluar\n",
            "\n",
            "Masukkan pilihan: 2\n",
            "Masukkan panjang sisi persegi: 5\n",
            "Luas persegi adalah 25.0\n",
            "\n",
            "Pilih bentuk yang ingin dihitung:\n",
            "\n",
            "1. Lingkaran\n",
            "2. Persegi\n",
            "3. Segitiga\n",
            "4. Keluar\n",
            "\n",
            "Masukkan pilihan: 3\n",
            "Masukkan alas segitiga: 5\n",
            "Masukkan tinggi segitiga: 10\n",
            "Luas segitiga adalah 25.0\n",
            "\n",
            "Pilih bentuk yang ingin dihitung:\n",
            "\n",
            "1. Lingkaran\n",
            "2. Persegi\n",
            "3. Segitiga\n",
            "4. Keluar\n",
            "\n",
            "Masukkan pilihan: 4\n",
            "Keluar dari Program\n"
          ]
        }
      ]
    }
  ]
}