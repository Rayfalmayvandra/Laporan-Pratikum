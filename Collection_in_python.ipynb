{
  "nbformat": 4,
  "nbformat_minor": 0,
  "metadata": {
    "colab": {
      "provenance": [],
      "authorship_tag": "ABX9TyP76Fg6oHUvb1U9wRy22caU",
      "include_colab_link": true
    },
    "kernelspec": {
      "name": "python3",
      "display_name": "Python 3"
    },
    "language_info": {
      "name": "python"
    }
  },
  "cells": [
    {
      "cell_type": "markdown",
      "metadata": {
        "id": "view-in-github",
        "colab_type": "text"
      },
      "source": [
        "<a href=\"https://colab.research.google.com/github/Rayfalmayvandra/Laporan-Pratikum/blob/main/Collection_in_python.ipynb\" target=\"_parent\"><img src=\"https://colab.research.google.com/assets/colab-badge.svg\" alt=\"Open In Colab\"/></a>"
      ]
    },
    {
      "cell_type": "markdown",
      "source": [
        "### **WEEKLY EXERCISE 1**\n",
        "\n",
        "### ***Sebutkan dan jelaskan perbedaan dari list, tuple, set dan dictionary dalam python***\n",
        "\n",
        "## **List**\n",
        "\n",
        "1. Tipe data yang ditulis secara berurutan.\n",
        "2. Bisa berisi lebih dari satu tipe data.\n",
        "3. Dapat diubah(Mutable), dan memungkinkan adanya data duplikat.\n",
        "4. Tipe data list diawali dengan kurung siku dan diakhiri dengan kurung siku.\n",
        "\n",
        "## **Tuple**\n",
        "\n",
        "1. Tipe data diawali dengan kurung buka memisahkan setiap elemen di dalamnya dengan tanda koma dan ditutup dengan tanda kurung tutup.\n",
        "2. Tipe data bersifat immutable (elemen pada tipe data tidak dapat diubah setelah proses pendeklarasian).\n",
        "\n",
        "## **Set**\n",
        "\n",
        "1. Tipe data diawalai dengan tanda kurung buka kurawal dan ditutup dengan tanda kurung tutup.\n",
        "2. Tipe data objek tidak mengizinkan adanya elemen dengan nilai yang sama dan tidak memperdulikan urutan dari elemen.\n",
        "3. Adanya data duplikat tidak akan menyebabkan error, hanya saja pada output nya hanya akan ditampilkan satu data saja. Selain itu, hasilnya juga tidak berurutan seperti pada list dan tuple.\n",
        "\n",
        "## **Dictionary**\n",
        "\n",
        "1. Dictionary adalah koleksi yang tidak terurut yang menyimpan pasangan kunci-nilai.\n",
        "2. Kunci harus unik dan bersifat immutable, sedangkan nilai dapat bersifat mutable."
      ],
      "metadata": {
        "id": "W5BWG0U553Ae"
      }
    },
    {
      "cell_type": "code",
      "source": [
        "Mahasiswa = {\n",
        "      \"Rayfal Mayvandra\": {\n",
        "      \"Kelas\": \"Rombel 1\",\n",
        "      \"Tanggal_Lahir\": \"2005-05-29\",\n",
        "      \"No_Hp\": \"08998776546\",\n",
        "      \"Alamat\": \"Jl. Jeruk peras, Kramat Selatan, Magelang Selatan\",\n",
        "      \"Hobi\": [\"Bermain Musik\",\"Mendengarkan Musik\"]\n",
        "      }\n",
        "}\n",
        "\n",
        "def cetak_data_Mahasiswa(nama):\n",
        "    data_mahasiswa = Mahasiswa[nama]\n",
        "    print(f\"Nama: {nama}\")\n",
        "    print(f\"Kelas: {data_mahasiswa['Kelas']}\")\n",
        "    print(f\"Tanggal Lahir: {data_mahasiswa['Tanggal_Lahir']}\")\n",
        "    print(f\"No Hp: {data_mahasiswa['No_Hp']}\")\n",
        "    print(f\"Alamat: {data_mahasiswa['Alamat']}\")\n",
        "    print(\"Hobi:\")\n",
        "    for hobi in data_mahasiswa['Hobi']:\n",
        "        print(f\"- {hobi}\")\n",
        "    print()\n",
        "\n",
        "for nama in Mahasiswa:\n",
        "    cetak_data_Mahasiswa(nama)"
      ],
      "metadata": {
        "id": "i5GcKFtZFTrZ",
        "colab": {
          "base_uri": "https://localhost:8080/"
        },
        "outputId": "eaa63950-8b0b-4266-a684-16f400cd93b3"
      },
      "execution_count": 5,
      "outputs": [
        {
          "output_type": "stream",
          "name": "stdout",
          "text": [
            "Nama: Rayfal Mayvandra\n",
            "Kelas: Rombel 1\n",
            "Tanggal Lahir: 2005-05-29\n",
            "No Hp: 08998776546\n",
            "Alamat: Jl. Jeruk peras, Kramat Selatan, Magelang Selatan\n",
            "Hobi:\n",
            "- Bermain Musik\n",
            "- Mendengarkan Musik\n",
            "\n"
          ]
        }
      ]
    }
  ]
}