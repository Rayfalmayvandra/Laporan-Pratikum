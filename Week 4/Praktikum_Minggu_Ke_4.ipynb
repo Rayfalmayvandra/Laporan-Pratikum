{
  "nbformat": 4,
  "nbformat_minor": 0,
  "metadata": {
    "colab": {
      "provenance": []
    },
    "kernelspec": {
      "name": "python3",
      "display_name": "Python 3"
    },
    "language_info": {
      "name": "python"
    }
  },
  "cells": [
    {
      "cell_type": "code",
      "execution_count": null,
      "metadata": {
        "colab": {
          "base_uri": "https://localhost:8080/"
        },
        "id": "pAjvpZFCh3_T",
        "outputId": "0db93539-5ccf-4172-af30-ed2f1de572ac"
      },
      "outputs": [
        {
          "output_type": "execute_result",
          "data": {
            "text/plain": [
              "False"
            ]
          },
          "metadata": {},
          "execution_count": 1
        }
      ],
      "source": [
        "a = 5\n",
        "a == 6"
      ]
    },
    {
      "cell_type": "code",
      "source": [
        "i = 6\n",
        "i > 5"
      ],
      "metadata": {
        "colab": {
          "base_uri": "https://localhost:8080/"
        },
        "id": "GV9A5y8djElb",
        "outputId": "24719caf-8bcb-4fdf-d5f5-420853f72e40"
      },
      "execution_count": null,
      "outputs": [
        {
          "output_type": "execute_result",
          "data": {
            "text/plain": [
              "True"
            ]
          },
          "metadata": {},
          "execution_count": 2
        }
      ]
    },
    {
      "cell_type": "code",
      "source": [
        "a = 5\n",
        "a == 5"
      ],
      "metadata": {
        "colab": {
          "base_uri": "https://localhost:8080/"
        },
        "id": "uRNwcyffjOBa",
        "outputId": "60e8a1b0-e977-4408-d62e-e1c237a7247d"
      },
      "execution_count": null,
      "outputs": [
        {
          "output_type": "execute_result",
          "data": {
            "text/plain": [
              "True"
            ]
          },
          "metadata": {},
          "execution_count": 3
        }
      ]
    },
    {
      "cell_type": "code",
      "source": [
        "i = 2\n",
        "i != 6"
      ],
      "metadata": {
        "colab": {
          "base_uri": "https://localhost:8080/"
        },
        "id": "YyOMEtBijR2S",
        "outputId": "fb6a960a-0236-44ad-8b1c-969310d85f27"
      },
      "execution_count": null,
      "outputs": [
        {
          "output_type": "execute_result",
          "data": {
            "text/plain": [
              "True"
            ]
          },
          "metadata": {},
          "execution_count": 4
        }
      ]
    },
    {
      "cell_type": "code",
      "source": [
        "\"ACDC\" == \"Michael Jackson\""
      ],
      "metadata": {
        "colab": {
          "base_uri": "https://localhost:8080/"
        },
        "id": "9DeQVcOTjhpK",
        "outputId": "027a8ece-0717-49cf-d805-1ed4c63e220c"
      },
      "execution_count": null,
      "outputs": [
        {
          "output_type": "execute_result",
          "data": {
            "text/plain": [
              "False"
            ]
          },
          "metadata": {},
          "execution_count": 6
        }
      ]
    },
    {
      "cell_type": "code",
      "source": [
        "\"ACDC\" != \"Michael Jackson\""
      ],
      "metadata": {
        "colab": {
          "base_uri": "https://localhost:8080/"
        },
        "id": "LQuV_BFcjr8y",
        "outputId": "74ce3821-da4b-4617-920a-4395b2e5d140"
      },
      "execution_count": null,
      "outputs": [
        {
          "output_type": "execute_result",
          "data": {
            "text/plain": [
              "True"
            ]
          },
          "metadata": {},
          "execution_count": 7
        }
      ]
    },
    {
      "cell_type": "code",
      "source": [
        "age = 18\n",
        "if age > 18:\n",
        "\n",
        "    print(\"you can enter\")\n",
        "\n",
        "    print(\"move on\")"
      ],
      "metadata": {
        "id": "k5vcRDT7jwmS"
      },
      "execution_count": null,
      "outputs": []
    },
    {
      "cell_type": "code",
      "source": [
        "age = 19\n",
        "if age > 18:\n",
        "    print(\"you can enter\")\n",
        "else:\n",
        "    print(\"go see Meat Loaf\")\n",
        "\n",
        "    print(\"move on\")"
      ],
      "metadata": {
        "colab": {
          "base_uri": "https://localhost:8080/"
        },
        "id": "KCigAT73j_8M",
        "outputId": "f86b26cd-ae79-4c91-e1ea-d3f74297f5b0"
      },
      "execution_count": null,
      "outputs": [
        {
          "output_type": "stream",
          "name": "stdout",
          "text": [
            "you can enter\n"
          ]
        }
      ]
    },
    {
      "cell_type": "code",
      "source": [
        "age = 18\n",
        "if age > 18:\n",
        "    print(\"you can enter\")\n",
        "elif age == 18:\n",
        "    print(\"go see Oasis\")\n",
        "else:\n",
        "    print(\"go see Meat Loaf\")\n",
        "\n",
        "print(\"move on\")"
      ],
      "metadata": {
        "colab": {
          "base_uri": "https://localhost:8080/"
        },
        "id": "xj4ph8oikXl_",
        "outputId": "ed47d2b9-7046-4356-b5ba-59e2a585506b"
      },
      "execution_count": null,
      "outputs": [
        {
          "output_type": "stream",
          "name": "stdout",
          "text": [
            "go see Oasis\n",
            "move on\n"
          ]
        }
      ]
    },
    {
      "cell_type": "code",
      "source": [
        "album_year = 1983\n",
        "album_year = 1970\n",
        "\n",
        "if album_year > 1980:\n",
        "    print(\"Album year is greater than 1980\")\n",
        "\n",
        "print =('do something..')"
      ],
      "metadata": {
        "id": "je_a8mOukR2z"
      },
      "execution_count": null,
      "outputs": []
    },
    {
      "cell_type": "code",
      "source": [
        "umur = int(input(\"masukkan umur anda: \"))\n",
        "if umur >=17:\n",
        "    print(\"anda boleh membuat SIM\")\n",
        "else:\n",
        "    print(\"anda belum boleh membuat SIM\")"
      ],
      "metadata": {
        "colab": {
          "base_uri": "https://localhost:8080/"
        },
        "id": "gJwqB0nfnOXK",
        "outputId": "6800676e-e143-4f21-9d37-78bfb7ef7f26"
      },
      "execution_count": null,
      "outputs": [
        {
          "output_type": "stream",
          "name": "stdout",
          "text": [
            "masukkan umur anda: 18\n",
            "anda boleh membuat SIM\n"
          ]
        }
      ]
    },
    {
      "cell_type": "code",
      "source": [
        "umur = int(input(\"masukkan umur anda: \"))\n",
        "if umur >=17:\n",
        "    print(\"anda boleh membuat SIM\")\n",
        "else:\n",
        "    print(\"anda belum boleh membuat SIM\")"
      ],
      "metadata": {
        "colab": {
          "base_uri": "https://localhost:8080/"
        },
        "id": "YDAKLiqWoIyS",
        "outputId": "59e68994-9019-48a7-f19e-06fd14d86ded"
      },
      "execution_count": null,
      "outputs": [
        {
          "output_type": "stream",
          "name": "stdout",
          "text": [
            "masukkan umur anda: 14\n",
            "anda belum boleh membuat SIM\n"
          ]
        }
      ]
    },
    {
      "cell_type": "code",
      "source": [
        "nilai = int(input(\"masukkan nilai anda: \"))\n",
        "if nilai >=90:\n",
        "    print(\"anda mendapat nilai A\")\n",
        "elif nilai >=80:\n",
        "    print(\"anda mendapat nilai B+\")\n",
        "elif nilai >=70:\n",
        "    print(\"anda mendapat nilai B\")\n",
        "elif nilai >=60:\n",
        "    print(\"anda mendapat nilai C+\")\n",
        "elif nilai >=50:\n",
        "    print(\"anda mendapat nilai C\")\n",
        "elif nilai >=40:\n",
        "    print(\"anda mendapat nilai D\")\n",
        "else:\n",
        "    print(\"anda mendapat nilai E\")"
      ],
      "metadata": {
        "colab": {
          "base_uri": "https://localhost:8080/"
        },
        "id": "EF6oGtrGoJxa",
        "outputId": "c68de54d-a5e7-45a2-ff40-51e7ab900386"
      },
      "execution_count": 61,
      "outputs": [
        {
          "output_type": "stream",
          "name": "stdout",
          "text": [
            "masukkan nilai anda: 85\n",
            "anda mendapat nilai B+\n"
          ]
        }
      ]
    },
    {
      "cell_type": "code",
      "source": [
        "nilai = int(input(\"masukkan nilai anda: \"))\n",
        "if nilai >=90:\n",
        "    print(\"anda mendapat nilai A\")\n",
        "elif nilai >=80:\n",
        "    print(\"anda mendapat nilai B+\")\n",
        "elif nilai >=70:\n",
        "    print(\"anda mendapat nilai B\")\n",
        "elif nilai >=60:\n",
        "    print(\"anda mendapat nilai C+\")\n",
        "elif nilai >=50:\n",
        "    print(\"anda mendapat nilai C\")\n",
        "elif nilai >=40:\n",
        "    print(\"anda mendapat nilai D\")\n",
        "else:\n",
        "    print(\"anda mendapat nilai E\")"
      ],
      "metadata": {
        "colab": {
          "base_uri": "https://localhost:8080/"
        },
        "id": "bB2_kzntpW5L",
        "outputId": "8debedc5-ad5c-426e-be64-f440965989d2"
      },
      "execution_count": null,
      "outputs": [
        {
          "output_type": "stream",
          "name": "stdout",
          "text": [
            "masukkan nilai anda: 100\n",
            "anda mendapat nilai A\n"
          ]
        }
      ]
    },
    {
      "cell_type": "code",
      "source": [
        "nilai = int(input(\"masukkan nilai anda: \"))\n",
        "if nilai >=90:\n",
        "    print(\"anda mendapat nilai A\")\n",
        "elif nilai >=80:\n",
        "    print(\"anda mendapat nilai B+\")\n",
        "elif nilai >=70:\n",
        "    print(\"anda mendapat nilai B\")\n",
        "elif nilai >=60:\n",
        "    print(\"anda mendapat nilai C+\")\n",
        "elif nilai >=50:\n",
        "    print(\"anda mendapat nilai C\")\n",
        "elif nilai >=40:\n",
        "    print(\"anda mendapat nilai D\")\n",
        "else:\n",
        "    print(\"anda mendapat nilai E\")"
      ],
      "metadata": {
        "colab": {
          "base_uri": "https://localhost:8080/"
        },
        "id": "son0y7mUp7gL",
        "outputId": "ba3dcd2b-768b-4b15-d024-846d381a49bc"
      },
      "execution_count": null,
      "outputs": [
        {
          "output_type": "stream",
          "name": "stdout",
          "text": [
            "masukkan nilai anda: 25\n",
            "anda mendapat nilai E\n"
          ]
        }
      ]
    },
    {
      "cell_type": "code",
      "source": [
        "nilai = int(input(\"masukkan nilai anda: \"))\n",
        "if nilai >=90:\n",
        "    print(\"anda mendapat nilai A\")\n",
        "elif nilai >=80:\n",
        "    print(\"anda mendapat nilai B+\")\n",
        "elif nilai >=70:\n",
        "    print(\"anda mendapat nilai B\")\n",
        "elif nilai >=60:\n",
        "    print(\"anda mendapat nilai C+\")\n",
        "elif nilai >=50:\n",
        "    print(\"anda mendapat nilai C\")\n",
        "elif nilai >=40:\n",
        "    print(\"anda mendapat nilai D\")\n",
        "else:\n",
        "    print(\"anda mendapat nilai E\")"
      ],
      "metadata": {
        "colab": {
          "base_uri": "https://localhost:8080/"
        },
        "id": "gttO3Ybcp_Fq",
        "outputId": "a5fb1958-6a3c-4369-d2fc-8deb9d913d8f"
      },
      "execution_count": null,
      "outputs": [
        {
          "output_type": "stream",
          "name": "stdout",
          "text": [
            "masukkan nilai anda: 48\n",
            "anda mendapat nilai D\n"
          ]
        }
      ]
    },
    {
      "cell_type": "code",
      "source": [
        "nilai = float(input(\"MASUKKAN NILAI: \"))\n",
        "if 80.00 <= nilai <= 100:\n",
        "    print(\"anda mendapat nilai A\")\n",
        "elif 77.50 <= nilai <= 79.99:\n",
        "    print(\"anda mendapat nilai A-\")\n",
        "elif 75.00 <= nilai <= 77.49:\n",
        "    print(\"anda mendapat nilai A/B\")\n",
        "elif 72.50 <= nilai <= 74.99:\n",
        "    print(\"anda mendapat nilai B+\")\n",
        "elif 70.00 <= nilai <= 72.49:\n",
        "    print(\"anda mendapat nilai B\")\n",
        "elif 67.50 <= nilai <= 69.99:\n",
        "    print(\"anda mendapat nilai B-\")\n",
        "elif 65.00 <= nilai <= 67.49:\n",
        "    print(\"anda mendapat nilai B/C\")\n",
        "elif 62.50 <= nilai <= 64.99:\n",
        "    print(\"anda mendapat nilai C+\")\n",
        "elif 60.00 <= nilai <= 62.49:\n",
        "    print(\"anda mendapat nilai C+\")\n",
        "elif 55.00 <= nilai <= 59.99:\n",
        "    print(\"anda mendapat nilai C-\")\n",
        "elif 50.00 <= nilai <= 54.49:\n",
        "    print(\"anda mendapat nilai C/D\")\n",
        "elif 45.00 <= nilai <= 49.99:\n",
        "    print(\"anda mendapat nilai D+\")\n",
        "elif 40.00 <= nilai <= 44.99:\n",
        "    print(\"anda mendapat nilai D\")\n",
        "else:\n",
        "    print(\"anda mendapat nilai E\")"
      ],
      "metadata": {
        "colab": {
          "base_uri": "https://localhost:8080/"
        },
        "id": "bXMSU2r6qFoi",
        "outputId": "eb33915f-59e2-46ab-81bc-c57367df82d1"
      },
      "execution_count": null,
      "outputs": [
        {
          "output_type": "stream",
          "name": "stdout",
          "text": [
            "MASUKKAN NILAI: 80.50\n",
            "anda mendapat nilai A\n"
          ]
        }
      ]
    },
    {
      "cell_type": "code",
      "source": [
        "nilai = float(input(\"MASUKKAN NILAI: \"))\n",
        "if 80.00 <= nilai <= 100:\n",
        "    print(\"anda mendapat nilai A\")\n",
        "elif 77.50 <= nilai <= 79.99:\n",
        "    print(\"anda mendapat nilai A-\")\n",
        "elif 75.00 <= nilai <= 77.49:\n",
        "    print(\"anda mendapat nilai A/B\")\n",
        "elif 72.50 <= nilai <= 74.99:\n",
        "    print(\"anda mendapat nilai B+\")\n",
        "elif 70.00 <= nilai <= 72.49:\n",
        "    print(\"anda mendapat nilai B\")\n",
        "elif 67.50 <= nilai <= 69.99:\n",
        "    print(\"anda mendapat nilai B-\")\n",
        "elif 65.00 <= nilai <= 67.49:\n",
        "    print(\"anda mendapat nilai B/C\")\n",
        "elif 62.50 <= nilai <= 64.99:\n",
        "    print(\"anda mendapat nilai C+\")\n",
        "elif 60.00 <= nilai <= 62.49:\n",
        "    print(\"anda mendapat nilai C+\")\n",
        "elif 55.00 <= nilai <= 59.99:\n",
        "    print(\"anda mendapat nilai C-\")\n",
        "elif 50.00 <= nilai <= 54.49:\n",
        "    print(\"anda mendapat nilai C/D\")\n",
        "elif 45.00 <= nilai <= 49.99:\n",
        "    print(\"anda mendapat nilai D+\")\n",
        "elif 40.00 <= nilai <= 44.99:\n",
        "    print(\"anda mendapat nilai D\")\n",
        "else:\n",
        "    print(\"anda mendapat nilai E\")\n"
      ],
      "metadata": {
        "colab": {
          "base_uri": "https://localhost:8080/"
        },
        "id": "CSwSfqSCsKYC",
        "outputId": "5383ee0f-1483-432b-f76d-4af31bb18f33"
      },
      "execution_count": 62,
      "outputs": [
        {
          "output_type": "stream",
          "name": "stdout",
          "text": [
            "MASUKKAN NILAI: 55.55\n",
            "anda mendapat nilai C-\n"
          ]
        }
      ]
    },
    {
      "cell_type": "code",
      "source": [
        "nilai = float(input(\"MASUKKAN NILAI: \"))\n",
        "if 80.00 <= nilai <= 100:\n",
        "    print(\"anda mendapat nilai A\")\n",
        "elif 77.50 <= nilai <= 79.99:\n",
        "    print(\"anda mendapat nilai A-\")\n",
        "elif 75.00 <= nilai <= 77.49:\n",
        "    print(\"anda mendapat nilai A/B\")\n",
        "elif 72.50 <= nilai <= 74.99:\n",
        "    print(\"anda mendapat nilai B+\")\n",
        "elif 70.00 <= nilai <= 72.49:\n",
        "    print(\"anda mendapat nilai B\")\n",
        "elif 67.50 <= nilai <= 69.99:\n",
        "    print(\"anda mendapat nilai B-\")\n",
        "elif 65.00 <= nilai <= 67.49:\n",
        "    print(\"anda mendapat nilai B/C\")\n",
        "elif 62.50 <= nilai <= 64.99:\n",
        "    print(\"anda mendapat nilai C+\")\n",
        "elif 60.00 <= nilai <= 62.49:\n",
        "    print(\"anda mendapat nilai C+\")\n",
        "elif 55.00 <= nilai <= 59.99:\n",
        "    print(\"anda mendapat nilai C-\")\n",
        "elif 50.00 <= nilai <= 54.49:\n",
        "    print(\"anda mendapat nilai C/D\")\n",
        "elif 45.00 <= nilai <= 49.99:\n",
        "    print(\"anda mendapat nilai D+\")\n",
        "elif 40.00 <= nilai <= 44.99:\n",
        "    print(\"anda mendapat nilai D\")\n",
        "else:\n",
        "    print(\"anda mendapat nilai E\")\n"
      ],
      "metadata": {
        "colab": {
          "base_uri": "https://localhost:8080/"
        },
        "id": "EQgjXjsUvsAf",
        "outputId": "bd3b31ac-c7b6-4f7a-aa84-46bc1f2684a8"
      },
      "execution_count": null,
      "outputs": [
        {
          "output_type": "stream",
          "name": "stdout",
          "text": [
            "MASUKKAN NILAI: 30.23\n",
            "anda mendapat nilai E\n"
          ]
        }
      ]
    },
    {
      "cell_type": "code",
      "source": [],
      "metadata": {
        "id": "vIALPiW5v_ET"
      },
      "execution_count": null,
      "outputs": []
    }
  ]
}