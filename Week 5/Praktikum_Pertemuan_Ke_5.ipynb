{
  "nbformat": 4,
  "nbformat_minor": 0,
  "metadata": {
    "colab": {
      "provenance": []
    },
    "kernelspec": {
      "name": "python3",
      "display_name": "Python 3"
    },
    "language_info": {
      "name": "python"
    }
  },
  "cells": [
    {
      "cell_type": "code",
      "source": [
        "#Weekly Exercise 1\n",
        "tahun = int(input(\"Masukkan Tahun: \"))\n",
        "if (tahun % 4 == 0 and tahun % 100 != 0) or (tahun % 400 == 0):\n",
        "    print(f\"{tahun} tersebut adalah tahun kabisat\")\n",
        "else:\n",
        "    print(f\"{tahun} tersebut bukan tahun kabisat\")"
      ],
      "metadata": {
        "colab": {
          "base_uri": "https://localhost:8080/"
        },
        "id": "RByIQmCfmgsK",
        "outputId": "691273e3-2200-4298-a629-be69bb23438b"
      },
      "execution_count": null,
      "outputs": [
        {
          "output_type": "stream",
          "name": "stdout",
          "text": [
            "Masukkan Tahun: 2069\n",
            "2069 tersebut bukan tahun kabisat\n"
          ]
        }
      ]
    },
    {
      "cell_type": "code",
      "source": [
        "tahun = int(input(\"Masukkan Tahun: \"))\n",
        "if (tahun % 4 == 0 and tahun % 100 != 0) or (tahun % 400 == 0):\n",
        "    print(f\"{tahun} tersebut adalah tahun kabisat\")\n",
        "else:\n",
        "    print(f\"{tahun} tersebut bukan tahun kabisat\")"
      ],
      "metadata": {
        "colab": {
          "base_uri": "https://localhost:8080/"
        },
        "id": "KO_w5WT9oID7",
        "outputId": "c469ccb5-601e-4c49-b852-35b0fe7668ce"
      },
      "execution_count": 5,
      "outputs": [
        {
          "output_type": "stream",
          "name": "stdout",
          "text": [
            "Masukkan Tahun: 2024\n",
            "2024 tersebut adalah tahun kabisat\n"
          ]
        }
      ]
    },
    {
      "cell_type": "code",
      "source": [
        "#Weekly Exercise 2\n",
        "angka_1 = int(input(\"Masukkan Angka Pertama: \"))\n",
        "angka_2 = int(input(\"Masukkan Angka Kedua: \"))\n",
        "angka_3 = int(input(\"Masukkan Angka Ketiga: \"))\n",
        "if angka_1 > angka_2 and angka_1 > angka_3:\n",
        "    print(f\"{angka_1} adalah angka terbesar\")\n",
        "elif angka_2 > angka_1 and angka_2 > angka_3:\n",
        "    print(f\"{angka_2} adalah angka terbesar\")\n",
        "else:\n",
        "    print(f\"{angka_3} adalah angka terbesar\")"
      ],
      "metadata": {
        "colab": {
          "base_uri": "https://localhost:8080/"
        },
        "id": "MyrIhWdkqtNz",
        "outputId": "74344000-76d6-4191-d7e2-4c60e7954dbc"
      },
      "execution_count": null,
      "outputs": [
        {
          "output_type": "stream",
          "name": "stdout",
          "text": [
            "Masukkan Angka Pertama: 2017\n",
            "Masukkan Angka Kedua: 222\n",
            "Masukkan Angka Ketiga: 71\n",
            "2017 adalah angka terbesar\n"
          ]
        }
      ]
    },
    {
      "cell_type": "code",
      "source": [
        "#Weekly Exercise 3\n",
        "status_member = input(\"Apakah Anda Member toko kami? (ya/bukan)? \")\n",
        "total_belanja = int(input(\"Masukkan Total Belanja Anda: \"))\n",
        "\n",
        "diskon = 0\n",
        "\n",
        "if total_belanja > 200_000:\n",
        "    diskon += 4\n",
        "elif total_belanja > 100.000:\n",
        "    diskon += 3\n",
        "    print(f\"Selamat anda mendapatkan diskon sebesar {diskon}%\")\n",
        "\n",
        "if status_member == \"ya\":\n",
        "    diskon += 2\n",
        "    print(f\"Selamat anda mendapatkan diskon sebesar {diskon}%\")\n",
        "\n",
        "total_diskon = diskon * total_belanja / 100\n",
        "total_bayar = total_belanja - total_diskon\n",
        "\n",
        "print(f\"Total belanja Anda adalah {total_belanja}\")\n",
        "print(f\"Anda mendapatkan diskon sebesar {total_diskon}\")\n",
        "print(f\"Total yang harus dibayar adalah {total_bayar}\")"
      ],
      "metadata": {
        "colab": {
          "base_uri": "https://localhost:8080/"
        },
        "id": "3uU9ZKEmxfKT",
        "outputId": "5916069b-32dd-4c63-a429-0023c890854e"
      },
      "execution_count": null,
      "outputs": [
        {
          "output_type": "stream",
          "name": "stdout",
          "text": [
            "Apakah Anda Member toko kami? (ya/bukan)? ya\n",
            "Masukkan Total Belanja Anda: 320_000\n",
            "Selamat anda mendapatkan diskon sebesar 6%\n",
            "Total belanja Anda adalah 320000\n",
            "Anda mendapatkan diskon sebesar 19200.0\n",
            "Total yang harus dibayar adalah 300800.0\n"
          ]
        }
      ]
    },
    {
      "cell_type": "code",
      "source": [
        "status_member = input(\"Apakah Anda Member toko kami? (ya/bukan)? \")\n",
        "total_belanja = int(input(\"Masukkan Total Belanja Anda: \"))\n",
        "\n",
        "diskon = 0\n",
        "\n",
        "if total_belanja > 200_000:\n",
        "    diskon += 4\n",
        "elif total_belanja > 100.000:\n",
        "    diskon += 3\n",
        "    print(f\"Selamat anda mendapatkan diskon sebesar {diskon}%\")\n",
        "\n",
        "if status_member == \"ya\":\n",
        "    diskon += 2\n",
        "    print(f\"Selamat anda mendapatkan diskon sebesar {diskon}%\")\n",
        "\n",
        "total_diskon = diskon * total_belanja / 100\n",
        "total_bayar = total_belanja - total_diskon\n",
        "\n",
        "print(f\"Total belanja Anda adalah {total_belanja}\")\n",
        "print(f\"Anda mendapatkan diskon sebesar {total_diskon}\")\n",
        "print(f\"Total yang harus dibayar adalah {total_bayar}\")"
      ],
      "metadata": {
        "colab": {
          "base_uri": "https://localhost:8080/"
        },
        "id": "F7VHdHEB2Q37",
        "outputId": "d0870dda-5819-4d59-ced4-6f369dca25e5"
      },
      "execution_count": null,
      "outputs": [
        {
          "output_type": "stream",
          "name": "stdout",
          "text": [
            "Apakah Anda Member toko kami? (ya/bukan)? bukan\n",
            "Masukkan Total Belanja Anda: 210_000\n",
            "Total belanja Anda adalah 210000\n",
            "Anda mendapatkan diskon sebesar 8400.0\n",
            "Total yang harus dibayar adalah 201600.0\n"
          ]
        }
      ]
    },
    {
      "cell_type": "code",
      "source": [
        "status_member = input(\"Apakah Anda Member toko kami? (ya/bukan)? \")\n",
        "total_belanja = int(input(\"Masukkan Total Belanja Anda: \"))\n",
        "\n",
        "diskon = 0\n",
        "\n",
        "if total_belanja > 200_000:\n",
        "    diskon += 4\n",
        "elif total_belanja > 100.000:\n",
        "    diskon += 3\n",
        "    print(f\"Selamat anda mendapatkan diskon sebesar {diskon}%\")\n",
        "\n",
        "if status_member == \"ya\":\n",
        "    diskon += 2\n",
        "    print(f\"Selamat anda mendapatkan diskon sebesar {diskon}%\")\n",
        "\n",
        "total_diskon = diskon * total_belanja / 100\n",
        "total_bayar = total_belanja - total_diskon\n",
        "\n",
        "print(f\"Total belanja Anda adalah {total_belanja}\")\n",
        "print(f\"Anda mendapatkan diskon sebesar {total_diskon}\")\n",
        "print(f\"Total yang harus dibayar adalah {total_bayar}\")"
      ],
      "metadata": {
        "colab": {
          "base_uri": "https://localhost:8080/"
        },
        "id": "jWq2vI4i2qNF",
        "outputId": "773fbb0e-05c2-4edd-9594-1ab291ed6cc7"
      },
      "execution_count": null,
      "outputs": [
        {
          "output_type": "stream",
          "name": "stdout",
          "text": [
            "Apakah Anda Member toko kami? (ya/bukan)? ya\n",
            "Masukkan Total Belanja Anda: 250000\n",
            "Selamat anda mendapatkan diskon sebesar 6%\n",
            "Total belanja Anda adalah 250000\n",
            "Anda mendapatkan diskon sebesar 15000.0\n",
            "Total yang harus dibayar adalah 235000.0\n"
          ]
        }
      ]
    },
    {
      "cell_type": "code",
      "source": [
        "#Weekly Exercise 4\n",
        "username = input(\"Masukkan username: \")\n",
        "email = input(\"Masukkan email: \")\n",
        "password = input(\"Masukkan password: \")\n",
        "\n",
        "if not username:\n",
        "    print(\"Username tidak boleh kosong!\")\n",
        "elif \"@\" not in email:\n",
        "    print(\"Email tidak valid!\")\n",
        "elif len(password) <= 8:\n",
        "    print(\"Password harus memiliki minimal 8 karakter!\")\n",
        "else:\n",
        "    print(\"Akun berhasil dibuat\")\n"
      ],
      "metadata": {
        "colab": {
          "base_uri": "https://localhost:8080/"
        },
        "id": "Nxqwdpiy0j_2",
        "outputId": "028080bc-ef59-4569-af01-ba2132253de6"
      },
      "execution_count": 2,
      "outputs": [
        {
          "output_type": "stream",
          "name": "stdout",
          "text": [
            "Masukkan username: rayfalkeren\n",
            "Masukkan email: rayfalkeren@gmail.com\n",
            "Masukkan password: kerenbanget\n",
            "Akun berhasil dibuat\n"
          ]
        }
      ]
    },
    {
      "cell_type": "code",
      "source": [
        "username = input(\"Masukkan username: \")\n",
        "email = input(\"Masukkan email: \")\n",
        "password = input(\"Masukkan password: \")\n",
        "\n",
        "if not username:\n",
        "    print(\"Username tidak boleh kosong!\")\n",
        "elif \"@\" not in email:\n",
        "    print(\"Email tidak valid!\")\n",
        "elif len(password) <= 8:\n",
        "    print(\"Password harus memiliki minimal 8 karakter!\")\n",
        "else:\n",
        "    print(\"Akun berhasil dibuat\")\n"
      ],
      "metadata": {
        "colab": {
          "base_uri": "https://localhost:8080/"
        },
        "id": "tftkm_PtJPCj",
        "outputId": "a9d46602-fa01-4f9b-b2b4-6ab3aa975e0f"
      },
      "execution_count": 6,
      "outputs": [
        {
          "output_type": "stream",
          "name": "stdout",
          "text": [
            "Masukkan username: rayfaltidakeren\n",
            "Masukkan email: rayfaltidakgmail.com\n",
            "Masukkan password: shas\n",
            "Email tidak valid!\n"
          ]
        }
      ]
    }
  ]
}