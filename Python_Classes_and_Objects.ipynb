{
  "nbformat": 4,
  "nbformat_minor": 0,
  "metadata": {
    "colab": {
      "provenance": [],
      "authorship_tag": "ABX9TyOQUNt9AhR6B+HvEXe35uFe"
    },
    "kernelspec": {
      "name": "python3",
      "display_name": "Python 3"
    },
    "language_info": {
      "name": "python"
    }
  },
  "cells": [
    {
      "cell_type": "code",
      "execution_count": 3,
      "metadata": {
        "id": "fUi_vHLRAMZ5",
        "colab": {
          "base_uri": "https://localhost:8080/"
        },
        "outputId": "c18d946d-0e54-48aa-9c9f-1d832b4e54f7"
      },
      "outputs": [
        {
          "output_type": "stream",
          "name": "stdout",
          "text": [
            "Masukkan jumlah stok untuk masing-masing alat tulis:\n",
            "Jumlah Bolpoin: 10\n",
            "Jumlah Pensil: 20\n",
            "Jumlah Penghapus: 5\n",
            "\n",
            "Informasi alat tulis:\n",
            "Nama: Bolpoin\n",
            "Stok: 10\n",
            "Harga Satuan: Rp. 2000\n",
            "Harga Total: Rp. 20000\n",
            "\n",
            "Nama: Pensil\n",
            "Stok: 20\n",
            "Harga Satuan: Rp. 1000\n",
            "Harga Total: Rp. 20000\n",
            "\n",
            "Nama: Penghapus\n",
            "Stok: 5\n",
            "Harga Satuan: Rp. 500\n",
            "Harga Total: Rp. 2500\n",
            "\n",
            "Total Harga Seluruh Barang: Rp. 42500\n"
          ]
        }
      ],
      "source": [
        "class AlatMenulis:\n",
        "    def __init__(self, nama, stok, harga_satuan):\n",
        "        self.nama = nama\n",
        "        self.stok = stok\n",
        "        self.harga_satuan = harga_satuan\n",
        "        self.harga_total = stok * harga_satuan\n",
        "\n",
        "    def set_stok(self, stok):\n",
        "        self.stok = stok\n",
        "        self.hitung_harga_total()\n",
        "\n",
        "    def set_harga_satuan(self, harga_satuan):\n",
        "        self.harga_satuan = harga_satuan\n",
        "        self.hitung_harga_total()\n",
        "\n",
        "    def get_nama(self):\n",
        "        return self.nama\n",
        "\n",
        "    def get_stok(self):\n",
        "        return self.stok\n",
        "\n",
        "    def get_harga_satuan(self):\n",
        "        return self.harga_satuan\n",
        "\n",
        "    def get_harga_total(self):\n",
        "        return self.harga_total\n",
        "\n",
        "    def hitung_harga_total(self):\n",
        "        self.harga_total = self.stok * self.harga_satuan\n",
        "\n",
        "\n",
        "bolpoin = AlatMenulis(\"Bolpoin\", 0, 2000)\n",
        "pensil = AlatMenulis(\"Pensil\", 0, 1000)\n",
        "penghapus = AlatMenulis(\"Penghapus\", 0, 500)\n",
        "\n",
        "print(\"Masukkan jumlah stok untuk masing-masing alat tulis:\")\n",
        "try:\n",
        "    stok_bolpoin = int(input(f\"Jumlah {bolpoin.get_nama()}: \"))\n",
        "    bolpoin.set_stok(stok_bolpoin)\n",
        "\n",
        "    stok_pensil = int(input(f\"Jumlah {pensil.get_nama()}: \"))\n",
        "    pensil.set_stok(stok_pensil)\n",
        "\n",
        "    stok_penghapus = int(input(f\"Jumlah {penghapus.get_nama()}: \"))\n",
        "    penghapus.set_stok(stok_penghapus)\n",
        "except ValueError:\n",
        "    print(\"Harap masukkan angka yang valid untuk stok.\")\n",
        "\n",
        "print(\"\\nInformasi alat tulis:\")\n",
        "for alat in [bolpoin, pensil, penghapus]:\n",
        "    print(f\"Nama: {alat.get_nama()}\")\n",
        "    print(f\"Stok: {alat.get_stok()}\")\n",
        "    print(f\"Harga Satuan: Rp. {alat.get_harga_satuan()}\")\n",
        "    print(f\"Harga Total: Rp. {alat.get_harga_total()}\\n\")\n",
        "\n",
        "total_semua = bolpoin.get_harga_total() + pensil.get_harga_total() + penghapus.get_harga_total()\n",
        "print(f\"Total Harga Seluruh Barang: Rp. {total_semua}\")"
      ]
    },
    {
      "cell_type": "code",
      "source": [],
      "metadata": {
        "id": "x4uy6vXFGyrl"
      },
      "execution_count": null,
      "outputs": []
    }
  ]
}