{
  "nbformat": 4,
  "nbformat_minor": 0,
  "metadata": {
    "colab": {
      "provenance": [],
      "authorship_tag": "ABX9TyNzUNIzQZrG7MkhLlWI5kER",
      "include_colab_link": true
    },
    "kernelspec": {
      "name": "python3",
      "display_name": "Python 3"
    },
    "language_info": {
      "name": "python"
    }
  },
  "cells": [
    {
      "cell_type": "markdown",
      "metadata": {
        "id": "view-in-github",
        "colab_type": "text"
      },
      "source": [
        "<a href=\"https://colab.research.google.com/github/Rayfalmayvandra/Laporan-Pratikum/blob/main/Python_Try_Except.ipynb\" target=\"_parent\"><img src=\"https://colab.research.google.com/assets/colab-badge.svg\" alt=\"Open In Colab\"/></a>"
      ]
    },
    {
      "cell_type": "code",
      "execution_count": 15,
      "metadata": {
        "id": "DqcFqGcA_MYe",
        "colab": {
          "base_uri": "https://localhost:8080/"
        },
        "outputId": "db4fd2df-7f6e-48fb-f56a-badc6b7041df"
      },
      "outputs": [
        {
          "output_type": "stream",
          "name": "stdout",
          "text": [
            "\n",
            "Pilihan:\n",
            "1. Hitung luas lingkaran\n",
            "2. Hitung luas persegi\n",
            "3. Keluar\n",
            "Pilih menu (1/2/3): 2\n",
            "Masukkan panjang sisi persegi: 5\n",
            "Luas persegi dengan sisi 5 adalah 25.00\n"
          ]
        }
      ],
      "source": [
        "#Weekly Exercise 1\n",
        "PI = 3.14\n",
        "\n",
        "def luas_lingkaran(jari_jari):\n",
        "    return PI * jari_jari * jari_jari\n",
        "\n",
        "def luas_persegi(sisi):\n",
        "    return sisi * sisi\n",
        "\n",
        "def hitung_luas_lingkaran():\n",
        "    while True:\n",
        "        try:\n",
        "            jari_jari = input(\"Masukkan jari-jari lingkaran: \")\n",
        "            luas = luas_lingkaran(int(jari_jari))\n",
        "            print(f\"Luas lingkaran dengan jari-jari {jari_jari} adalah {luas:.2f}\")\n",
        "            break\n",
        "        except :\n",
        "          if jari_jari == \"\":\n",
        "                raise ValueError(\"Tidak boleh kosong\")\n",
        "\n",
        "          if type(jari_jari):\n",
        "              raise ValueError(\"Masukan angka\")\n",
        "\n",
        "\n",
        "def hitung_luas_persegi():\n",
        "    while True:\n",
        "        try:\n",
        "            sisi = input(\"Masukkan panjang sisi persegi: \")\n",
        "            luas = luas_persegi(float(sisi))\n",
        "            print(f\"Luas persegi dengan sisi {sisi} adalah {luas:.2f}\")\n",
        "            break\n",
        "        except :\n",
        "          if sisi == \"\":\n",
        "                raise ValueError(\"Tidak boleh kosong\")\n",
        "\n",
        "          if type(sisi):\n",
        "                raise ValueError(\"Hanya Boleh memasukan angka\")\n",
        "\n",
        "while True:\n",
        "    print(\"\\nPilihan:\")\n",
        "    print(\"1. Hitung luas lingkaran\")\n",
        "    print(\"2. Hitung luas persegi\")\n",
        "    print(\"3. Keluar\")\n",
        "    pilihan = input(\"Pilih menu (1/2/3): \")\n",
        "\n",
        "    if pilihan == '1':\n",
        "        hitung_luas_lingkaran()\n",
        "        break\n",
        "    elif pilihan == '2':\n",
        "        hitung_luas_persegi()\n",
        "        break\n",
        "    elif pilihan == '3':\n",
        "        print(\"Terima kasih telah menggunakan program!\")\n",
        "        break\n",
        "    else:\n",
        "        print(\"Pilihan tidak valid. Silakan pilih 1, 2, atau 3.\")"
      ]
    },
    {
      "cell_type": "code",
      "source": [
        "#Weekly Exercise 2\n",
        "try:\n",
        "    angka = input(\"Masukkan NPM Anda: \")\n",
        "    if not angka.isdigit():\n",
        "        raise ValueError(\"Input harus berupa angka.\")\n",
        "\n",
        "    jumlah_ganjil = 0\n",
        "    jumlah_genap = 0\n",
        "\n",
        "    for i in angka:\n",
        "        if int(i) % 2 == 0:\n",
        "            jumlah_genap += 1\n",
        "        else:\n",
        "            jumlah_ganjil += 1\n",
        "\n",
        "    print(f\"Jumlah digit genap: {jumlah_genap}\")\n",
        "    print(f\"Jumlah digit ganjil: {jumlah_ganjil}\")\n",
        "\n",
        "except ValueError as uts:\n",
        "    print(f\"Error: {uts}. Harap masukkan NPM yang valid.\")"
      ],
      "metadata": {
        "colab": {
          "base_uri": "https://localhost:8080/"
        },
        "id": "3ak-BhgV-Eb3",
        "outputId": "fe4be931-2e29-4b0c-a02c-044021dbdbce"
      },
      "execution_count": 16,
      "outputs": [
        {
          "output_type": "stream",
          "name": "stdout",
          "text": [
            "Masukkan NPM Anda: 2410506009\n",
            "Jumlah digit genap: 7\n",
            "Jumlah digit ganjil: 3\n"
          ]
        }
      ]
    },
    {
      "cell_type": "code",
      "source": [
        "try:\n",
        "    angka = input(\"Masukkan NPM Anda: \")\n",
        "    if not angka.isdigit():\n",
        "        raise ValueError(\"Input harus berupa angka\")\n",
        "\n",
        "    jumlah_ganjil = 0\n",
        "    jumlah_genap = 0\n",
        "\n",
        "    for i in angka:\n",
        "        if int(i) % 2 == 0:\n",
        "            jumlah_genap += 1\n",
        "        else:\n",
        "            jumlah_ganjil += 1\n",
        "\n",
        "    print(f\"Jumlah digit genap: {jumlah_genap}\")\n",
        "    print(f\"Jumlah digit ganjil: {jumlah_ganjil}\")\n",
        "\n",
        "except ValueError as uts:\n",
        "    print(f\"Error: {uts}. Harap masukkan NPM yang valid.\")"
      ],
      "metadata": {
        "colab": {
          "base_uri": "https://localhost:8080/"
        },
        "id": "YBcRr-Nq-r_k",
        "outputId": "a7e352a4-12d0-4aa0-e0b7-87b8c9f32604"
      },
      "execution_count": 13,
      "outputs": [
        {
          "output_type": "stream",
          "name": "stdout",
          "text": [
            "Masukkan NPM Anda: lupa\n",
            "Error: Input harus berupa angka. Harap masukkan NPM yang valid.\n"
          ]
        }
      ]
    },
    {
      "cell_type": "code",
      "source": [],
      "metadata": {
        "id": "XWBxMF47_aRu"
      },
      "execution_count": null,
      "outputs": []
    }
  ]
}