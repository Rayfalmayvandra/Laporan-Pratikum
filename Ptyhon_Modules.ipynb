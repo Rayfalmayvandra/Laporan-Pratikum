{
  "nbformat": 4,
  "nbformat_minor": 0,
  "metadata": {
    "colab": {
      "provenance": [],
      "authorship_tag": "ABX9TyMxR25jkHGXwoVuS3UFYzc1",
      "include_colab_link": true
    },
    "kernelspec": {
      "name": "python3",
      "display_name": "Python 3"
    },
    "language_info": {
      "name": "python"
    }
  },
  "cells": [
    {
      "cell_type": "markdown",
      "metadata": {
        "id": "view-in-github",
        "colab_type": "text"
      },
      "source": [
        "<a href=\"https://colab.research.google.com/github/Rayfalmayvandra/Laporan-Pratikum/blob/main/Ptyhon_Modules.ipynb\" target=\"_parent\"><img src=\"https://colab.research.google.com/assets/colab-badge.svg\" alt=\"Open In Colab\"/></a>"
      ]
    },
    {
      "cell_type": "code",
      "execution_count": 3,
      "metadata": {
        "colab": {
          "base_uri": "https://localhost:8080/"
        },
        "id": "K062CZvT7kuC",
        "outputId": "51066076-dcda-439a-9d81-09cd3d270e3e"
      },
      "outputs": [
        {
          "output_type": "stream",
          "name": "stdout",
          "text": [
            "78.53975\n"
          ]
        }
      ],
      "source": [
        "#Weekly Exercise 1\n",
        "import matematika\n",
        "print(matematika.luas_lingkaran(5))"
      ]
    },
    {
      "cell_type": "code",
      "source": [
        "#Weekly Exercise 1\n",
        "import matematika\n",
        "print(matematika.luas_persegi(10))"
      ],
      "metadata": {
        "colab": {
          "base_uri": "https://localhost:8080/"
        },
        "id": "QgbmIagfACpu",
        "outputId": "43fa8d1b-f24f-4ae8-8ec9-32d87b249631"
      },
      "execution_count": null,
      "outputs": [
        {
          "output_type": "stream",
          "name": "stdout",
          "text": [
            "100\n"
          ]
        }
      ]
    },
    {
      "cell_type": "code",
      "source": [
        "#Weekly Exercise 2\n",
        "import math\n",
        "print(math.pi)\n",
        "print(math.sqrt(9))\n",
        "print(math.sin(math.pi/2))\n",
        "print(math.cos(math.pi/4))\n",
        "print(math.tan(math.pi/6))"
      ],
      "metadata": {
        "colab": {
          "base_uri": "https://localhost:8080/"
        },
        "id": "pUN1Q7PPD8Bh",
        "outputId": "c11687a3-84c7-4612-ca57-c3a8927aa321"
      },
      "execution_count": 4,
      "outputs": [
        {
          "output_type": "stream",
          "name": "stdout",
          "text": [
            "3.141592653589793\n",
            "3.0\n",
            "1.0\n",
            "0.7071067811865476\n",
            "0.5773502691896257\n"
          ]
        }
      ]
    }
  ]
}